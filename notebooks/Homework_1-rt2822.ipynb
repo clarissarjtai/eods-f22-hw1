{
 "cells": [
  {
   "cell_type": "markdown",
   "metadata": {},
   "source": [
    "# Homework 1\n",
    "\n",
    "## Clarissa Tai - rt2822\n",
    "\n",
    "### Due: Friday Oct 7th 11:59pm ET"
   ]
  },
  {
   "cell_type": "markdown",
   "metadata": {},
   "source": [
    "In this homework we'll do some data exploration and perform a hypothesis test.\n",
    "\n",
    "\n",
    "## Instructions\n",
    "\n",
    "Follow the comments below and fill in the blanks (____) to complete.\n",
    "\n",
    "When completed, \n",
    " 1. Replace Name and UNI in the first cell and filename\n",
    " 2. Kernel -> Restart & Run All to run all cells in order \n",
    " 3. Print Preview -> Print (Landscape Layout) -> Save to pdf \n",
    " 4. Post pdf to GradeScope\n",
    "\n"
   ]
  },
  {
   "cell_type": "markdown",
   "metadata": {},
   "source": [
    "# Environment Setup"
   ]
  },
  {
   "cell_type": "code",
   "execution_count": 1,
   "metadata": {},
   "outputs": [],
   "source": [
    "import pandas as pd\n",
    "import numpy as np\n",
    "import seaborn as sns\n",
    "import matplotlib.pylab as plt\n",
    "\n",
    "sns.set_style('darkgrid')\n",
    "\n",
    "%matplotlib inline"
   ]
  },
  {
   "cell_type": "markdown",
   "metadata": {},
   "source": [
    "## Part 1: Data Exploration\n",
    "\n",
    "One data science task, and a common one used for data science interviews, is to predict defaults on loans.<br>\n",
    "We're going to load a subset of a common loan dataset and explore some of the features.\n",
    "\n",
    "Here is a brief description of the features included:\n",
    "\n",
    "- **purpose**: The purpose of the loan, such as: credit_card, debt_consolidation, etc.\n",
    "- **annual_inc**: Annual income of the borrower\n",
    "- **home_ownership**: The borrower's relationship with their primary residence\n",
    "- **loan_amnt**: The amount of money applied for\n",
    "- **outcome**: The result of the loan: paid off or default"
   ]
  },
  {
   "cell_type": "code",
   "execution_count": 2,
   "metadata": {},
   "outputs": [],
   "source": [
    "# 1. (1pt) Load the data from ../data/loan_data_subset.csv into the variable df \n",
    "#    using the column 'id' as the index with index_col='id'\n",
    "#    note: use the default separator ','\n",
    "\n",
    "df = pd.read_csv('../data/loan_data_subset.csv', index_col='id')"
   ]
  },
  {
   "cell_type": "code",
   "execution_count": 3,
   "metadata": {},
   "outputs": [
    {
     "name": "stdout",
     "output_type": "stream",
     "text": [
      "dataframe has 1000 rows and 5 columns.\n"
     ]
    }
   ],
   "source": [
    "# 2. (1pt) Using .shape, how many rows and columns does the dataset have?\n",
    "\n",
    "print(f'dataframe has {df.shape[0]} rows and {df.shape[1]} columns.')"
   ]
  },
  {
   "cell_type": "code",
   "execution_count": 4,
   "metadata": {},
   "outputs": [
    {
     "data": {
      "text/html": [
       "<div>\n",
       "<style scoped>\n",
       "    .dataframe tbody tr th:only-of-type {\n",
       "        vertical-align: middle;\n",
       "    }\n",
       "\n",
       "    .dataframe tbody tr th {\n",
       "        vertical-align: top;\n",
       "    }\n",
       "\n",
       "    .dataframe thead th {\n",
       "        text-align: right;\n",
       "    }\n",
       "</style>\n",
       "<table border=\"1\" class=\"dataframe\">\n",
       "  <thead>\n",
       "    <tr style=\"text-align: right;\">\n",
       "      <th></th>\n",
       "      <th>purpose</th>\n",
       "      <th>annual_inc</th>\n",
       "      <th>home_ownership</th>\n",
       "      <th>loan_amnt</th>\n",
       "      <th>outcome</th>\n",
       "    </tr>\n",
       "    <tr>\n",
       "      <th>id</th>\n",
       "      <th></th>\n",
       "      <th></th>\n",
       "      <th></th>\n",
       "      <th></th>\n",
       "      <th></th>\n",
       "    </tr>\n",
       "  </thead>\n",
       "  <tbody>\n",
       "    <tr>\n",
       "      <th>id0</th>\n",
       "      <td>credit_card</td>\n",
       "      <td>40000</td>\n",
       "      <td>MORTGAGE</td>\n",
       "      <td>7875</td>\n",
       "      <td>paid off</td>\n",
       "    </tr>\n",
       "    <tr>\n",
       "      <th>id1</th>\n",
       "      <td>debt_consolidation</td>\n",
       "      <td>47000</td>\n",
       "      <td>MORTGAGE</td>\n",
       "      <td>9325</td>\n",
       "      <td>paid off</td>\n",
       "    </tr>\n",
       "    <tr>\n",
       "      <th>id2</th>\n",
       "      <td>debt_consolidation</td>\n",
       "      <td>28264</td>\n",
       "      <td>RENT</td>\n",
       "      <td>10600</td>\n",
       "      <td>paid off</td>\n",
       "    </tr>\n",
       "  </tbody>\n",
       "</table>\n",
       "</div>"
      ],
      "text/plain": [
       "                purpose  annual_inc home_ownership  loan_amnt   outcome\n",
       "id                                                                     \n",
       "id0         credit_card       40000       MORTGAGE       7875  paid off\n",
       "id1  debt_consolidation       47000       MORTGAGE       9325  paid off\n",
       "id2  debt_consolidation       28264           RENT      10600  paid off"
      ]
     },
     "execution_count": 4,
     "metadata": {},
     "output_type": "execute_result"
    }
   ],
   "source": [
    "# 3. (1pt) Display the first 3 rows of the dataset using .head()\n",
    "\n",
    "df.head(3)"
   ]
  },
  {
   "cell_type": "code",
   "execution_count": 5,
   "metadata": {},
   "outputs": [
    {
     "data": {
      "text/html": [
       "<div>\n",
       "<style scoped>\n",
       "    .dataframe tbody tr th:only-of-type {\n",
       "        vertical-align: middle;\n",
       "    }\n",
       "\n",
       "    .dataframe tbody tr th {\n",
       "        vertical-align: top;\n",
       "    }\n",
       "\n",
       "    .dataframe thead th {\n",
       "        text-align: right;\n",
       "    }\n",
       "</style>\n",
       "<table border=\"1\" class=\"dataframe\">\n",
       "  <thead>\n",
       "    <tr style=\"text-align: right;\">\n",
       "      <th></th>\n",
       "      <th>annual_inc</th>\n",
       "      <th>loan_amnt</th>\n",
       "    </tr>\n",
       "    <tr>\n",
       "      <th>id</th>\n",
       "      <th></th>\n",
       "      <th></th>\n",
       "    </tr>\n",
       "  </thead>\n",
       "  <tbody>\n",
       "    <tr>\n",
       "      <th>id0</th>\n",
       "      <td>40000</td>\n",
       "      <td>7875</td>\n",
       "    </tr>\n",
       "    <tr>\n",
       "      <th>id1</th>\n",
       "      <td>47000</td>\n",
       "      <td>9325</td>\n",
       "    </tr>\n",
       "    <tr>\n",
       "      <th>id2</th>\n",
       "      <td>28264</td>\n",
       "      <td>10600</td>\n",
       "    </tr>\n",
       "  </tbody>\n",
       "</table>\n",
       "</div>"
      ],
      "text/plain": [
       "     annual_inc  loan_amnt\n",
       "id                        \n",
       "id0       40000       7875\n",
       "id1       47000       9325\n",
       "id2       28264      10600"
      ]
     },
     "execution_count": 5,
     "metadata": {},
     "output_type": "execute_result"
    }
   ],
   "source": [
    "# 4. (1pt) Print out the first 3 rows of the numeric feature columns included in the dataset \n",
    "#    (3 rows x 2 columns)\n",
    "\n",
    "df.select_dtypes(include=np.number).head(3)"
   ]
  },
  {
   "cell_type": "code",
   "execution_count": 6,
   "metadata": {},
   "outputs": [
    {
     "data": {
      "text/html": [
       "<div>\n",
       "<style scoped>\n",
       "    .dataframe tbody tr th:only-of-type {\n",
       "        vertical-align: middle;\n",
       "    }\n",
       "\n",
       "    .dataframe tbody tr th {\n",
       "        vertical-align: top;\n",
       "    }\n",
       "\n",
       "    .dataframe thead th {\n",
       "        text-align: right;\n",
       "    }\n",
       "</style>\n",
       "<table border=\"1\" class=\"dataframe\">\n",
       "  <thead>\n",
       "    <tr style=\"text-align: right;\">\n",
       "      <th></th>\n",
       "      <th>purpose</th>\n",
       "      <th>home_ownership</th>\n",
       "      <th>outcome</th>\n",
       "    </tr>\n",
       "    <tr>\n",
       "      <th>id</th>\n",
       "      <th></th>\n",
       "      <th></th>\n",
       "      <th></th>\n",
       "    </tr>\n",
       "  </thead>\n",
       "  <tbody>\n",
       "    <tr>\n",
       "      <th>id0</th>\n",
       "      <td>credit_card</td>\n",
       "      <td>MORTGAGE</td>\n",
       "      <td>paid off</td>\n",
       "    </tr>\n",
       "    <tr>\n",
       "      <th>id1</th>\n",
       "      <td>debt_consolidation</td>\n",
       "      <td>MORTGAGE</td>\n",
       "      <td>paid off</td>\n",
       "    </tr>\n",
       "    <tr>\n",
       "      <th>id2</th>\n",
       "      <td>debt_consolidation</td>\n",
       "      <td>RENT</td>\n",
       "      <td>paid off</td>\n",
       "    </tr>\n",
       "  </tbody>\n",
       "</table>\n",
       "</div>"
      ],
      "text/plain": [
       "                purpose home_ownership   outcome\n",
       "id                                              \n",
       "id0         credit_card       MORTGAGE  paid off\n",
       "id1  debt_consolidation       MORTGAGE  paid off\n",
       "id2  debt_consolidation           RENT  paid off"
      ]
     },
     "execution_count": 6,
     "metadata": {},
     "output_type": "execute_result"
    }
   ],
   "source": [
    "# 5. (1pt) Print out the first 3 rows of the the categorical feature columns in the dataset\n",
    "#    (3 rows x 3 columns)\n",
    "\n",
    "df.select_dtypes(include='object').head(3)"
   ]
  },
  {
   "cell_type": "code",
   "execution_count": 7,
   "metadata": {},
   "outputs": [
    {
     "data": {
      "text/html": [
       "<div>\n",
       "<style scoped>\n",
       "    .dataframe tbody tr th:only-of-type {\n",
       "        vertical-align: middle;\n",
       "    }\n",
       "\n",
       "    .dataframe tbody tr th {\n",
       "        vertical-align: top;\n",
       "    }\n",
       "\n",
       "    .dataframe thead th {\n",
       "        text-align: right;\n",
       "    }\n",
       "</style>\n",
       "<table border=\"1\" class=\"dataframe\">\n",
       "  <thead>\n",
       "    <tr style=\"text-align: right;\">\n",
       "      <th></th>\n",
       "      <th>purpose</th>\n",
       "      <th>annual_inc</th>\n",
       "      <th>home_ownership</th>\n",
       "      <th>loan_amnt</th>\n",
       "      <th>outcome</th>\n",
       "    </tr>\n",
       "    <tr>\n",
       "      <th>id</th>\n",
       "      <th></th>\n",
       "      <th></th>\n",
       "      <th></th>\n",
       "      <th></th>\n",
       "      <th></th>\n",
       "    </tr>\n",
       "  </thead>\n",
       "  <tbody>\n",
       "    <tr>\n",
       "      <th>id100</th>\n",
       "      <td>credit_card</td>\n",
       "      <td>75000</td>\n",
       "      <td>RENT</td>\n",
       "      <td>10000</td>\n",
       "      <td>paid off</td>\n",
       "    </tr>\n",
       "    <tr>\n",
       "      <th>id101</th>\n",
       "      <td>other</td>\n",
       "      <td>72000</td>\n",
       "      <td>RENT</td>\n",
       "      <td>3000</td>\n",
       "      <td>paid off</td>\n",
       "    </tr>\n",
       "    <tr>\n",
       "      <th>id102</th>\n",
       "      <td>debt_consolidation</td>\n",
       "      <td>79000</td>\n",
       "      <td>RENT</td>\n",
       "      <td>16000</td>\n",
       "      <td>paid off</td>\n",
       "    </tr>\n",
       "  </tbody>\n",
       "</table>\n",
       "</div>"
      ],
      "text/plain": [
       "                  purpose  annual_inc home_ownership  loan_amnt   outcome\n",
       "id                                                                       \n",
       "id100         credit_card       75000           RENT      10000  paid off\n",
       "id101               other       72000           RENT       3000  paid off\n",
       "id102  debt_consolidation       79000           RENT      16000  paid off"
      ]
     },
     "execution_count": 7,
     "metadata": {},
     "output_type": "execute_result"
    }
   ],
   "source": [
    "# 6. (1pt) Display all columns for rows with id from id100 to id102 inclusive\n",
    "#    We should see 3 rows, 5 columns\n",
    "\n",
    "df.loc['id100':'id102']"
   ]
  },
  {
   "cell_type": "code",
   "execution_count": 8,
   "metadata": {},
   "outputs": [
    {
     "data": {
      "text/html": [
       "<div>\n",
       "<style scoped>\n",
       "    .dataframe tbody tr th:only-of-type {\n",
       "        vertical-align: middle;\n",
       "    }\n",
       "\n",
       "    .dataframe tbody tr th {\n",
       "        vertical-align: top;\n",
       "    }\n",
       "\n",
       "    .dataframe thead th {\n",
       "        text-align: right;\n",
       "    }\n",
       "</style>\n",
       "<table border=\"1\" class=\"dataframe\">\n",
       "  <thead>\n",
       "    <tr style=\"text-align: right;\">\n",
       "      <th></th>\n",
       "      <th>annual_inc</th>\n",
       "      <th>home_ownership</th>\n",
       "    </tr>\n",
       "    <tr>\n",
       "      <th>id</th>\n",
       "      <th></th>\n",
       "      <th></th>\n",
       "    </tr>\n",
       "  </thead>\n",
       "  <tbody>\n",
       "    <tr>\n",
       "      <th>id768</th>\n",
       "      <td>367000</td>\n",
       "      <td>MORTGAGE</td>\n",
       "    </tr>\n",
       "    <tr>\n",
       "      <th>id201</th>\n",
       "      <td>334000</td>\n",
       "      <td>OWN</td>\n",
       "    </tr>\n",
       "    <tr>\n",
       "      <th>id419</th>\n",
       "      <td>310000</td>\n",
       "      <td>MORTGAGE</td>\n",
       "    </tr>\n",
       "  </tbody>\n",
       "</table>\n",
       "</div>"
      ],
      "text/plain": [
       "       annual_inc home_ownership\n",
       "id                              \n",
       "id768      367000       MORTGAGE\n",
       "id201      334000            OWN\n",
       "id419      310000       MORTGAGE"
      ]
     },
     "execution_count": 8,
     "metadata": {},
     "output_type": "execute_result"
    }
   ],
   "source": [
    "# 7. (3pt) Display annual_inc and home_ownership columns for the 3 rows with highest annual_inc\n",
    "#    We should see 3 rows, 2 columns\n",
    "\n",
    "df.sort_values(by='annual_inc',ascending=False)[['annual_inc','home_ownership']].iloc[:3]"
   ]
  },
  {
   "cell_type": "code",
   "execution_count": 9,
   "metadata": {},
   "outputs": [
    {
     "name": "stdout",
     "output_type": "stream",
     "text": [
      "mean_annual_inc = 98223.29\n"
     ]
    }
   ],
   "source": [
    "# 8. (3pt) What is the mean annual_inc for rows with:\n",
    "#        (loan_amnt greater than the median loan_amnt) and\n",
    "#        (outcome of 'paid off') and\n",
    "#        (home_ownership of 'MORTGAGE' or 'OWN')\n",
    "\n",
    "mean_annual_inc = df.loc[(df.loan_amnt>df.loan_amnt.median())&\n",
    "                         (df.outcome=='paid off')&\n",
    "                         (df.home_ownership.isin(['MORTGAGE','OWN']))].annual_inc.mean()\n",
    "                           \n",
    "# Print the mean annual income found with precision of 2\n",
    "\n",
    "print(f'{mean_annual_inc = :0.2f}')"
   ]
  },
  {
   "cell_type": "code",
   "execution_count": 10,
   "metadata": {},
   "outputs": [
    {
     "name": "stdout",
     "output_type": "stream",
     "text": [
      "debt_consolidation    542\n",
      "credit_card           173\n",
      "other                  93\n",
      "home_improvement       62\n",
      "major_purchase         34\n",
      "small_business         33\n",
      "medical                15\n",
      "wedding                15\n",
      "moving                 12\n",
      "house                  10\n",
      "car                     7\n",
      "vacation                4\n",
      "Name: purpose, dtype: int64\n"
     ]
    }
   ],
   "source": [
    "# 9. (1pt) Calculate frequencies of the different values seen in column 'purpose' using .value_counts()\n",
    "#    Store in purpose_counts.\n",
    "\n",
    "purpose_counts = df.purpose.value_counts()\n",
    "\n",
    "print(purpose_counts)"
   ]
  },
  {
   "cell_type": "code",
   "execution_count": 11,
   "metadata": {},
   "outputs": [
    {
     "data": {
      "text/plain": [
       "<AxesSubplot: xlabel='count', ylabel='purpose'>"
      ]
     },
     "execution_count": 11,
     "metadata": {},
     "output_type": "execute_result"
    },
    {
     "data": {
      "image/png": "[encoded data removed]",
      "text/plain": [
       "<Figure size 640x480 with 1 Axes>"
      ]
     },
     "metadata": {},
     "output_type": "display_data"
    }
   ],
   "source": [
    "# 10. (3pt) Plot the frequency of each of the categories seen in the 'purpose' column using sns.countplot()\n",
    "#   Order the bars using the purpose_counts.index, generated in the cell above, \n",
    "#      which is sorted by frequency by default. (use the order= argument in sns.countplot())\n",
    "#   Because there are many values, and some of the labels are long, \n",
    "#      place 'purpose' on the y-axis instead of the x-axis (use y= instead of x=).\n",
    "\n",
    "sns.countplot(y='purpose',data=df,order=purpose_counts.index)"
   ]
  },
  {
   "cell_type": "code",
   "execution_count": 12,
   "metadata": {},
   "outputs": [
    {
     "data": {
      "text/plain": [
       "purpose\n",
       "moving                 4933.333333\n",
       "car                    5542.857143\n",
       "medical                6666.666667\n",
       "vacation               7700.000000\n",
       "wedding                9153.333333\n",
       "other                  9758.064516\n",
       "major_purchase        11732.352941\n",
       "home_improvement      12114.516129\n",
       "credit_card           12776.589595\n",
       "debt_consolidation    14440.221402\n",
       "house                 14717.500000\n",
       "small_business        15344.696970\n",
       "Name: loan_amnt, dtype: float64"
      ]
     },
     "execution_count": 12,
     "metadata": {},
     "output_type": "execute_result"
    }
   ],
   "source": [
    "# 11. (2pt) What is the mean loan_amnt for each category in purpose?\n",
    "#     Use groupby()\n",
    "#     Sort the resulting series by value ascending (default)\n",
    "\n",
    "df.groupby('purpose').loan_amnt.mean().sort_values()"
   ]
  },
  {
   "cell_type": "code",
   "execution_count": 13,
   "metadata": {},
   "outputs": [
    {
     "data": {
      "text/plain": [
       "count      1000.00\n",
       "mean      68158.89\n",
       "std       40271.75\n",
       "min       10000.00\n",
       "25%       42000.00\n",
       "50%       60000.00\n",
       "75%       83000.00\n",
       "max      367000.00\n",
       "Name: annual_inc, dtype: float64"
      ]
     },
     "execution_count": 13,
     "metadata": {},
     "output_type": "execute_result"
    }
   ],
   "source": [
    "# 12. (1pt) Display the summary statistics of annual_inc using .describe()\n",
    "#     Round all values to the hundredths place (precision of 2) using .round()\n",
    "\n",
    "df.annual_inc.describe().round(2)"
   ]
  },
  {
   "cell_type": "code",
   "execution_count": 14,
   "metadata": {},
   "outputs": [
    {
     "name": "stdout",
     "output_type": "stream",
     "text": [
      "absolute difference = 8158.89\n"
     ]
    }
   ],
   "source": [
    "# 13. (2pt) There appears to be a fairly large difference between mean and median in annual_inc.\n",
    "#   Print out the absolute difference in mean annual_inc and median annual_inc to a precision of 2\n",
    "#   To calculate the absolute value, use np.abs()\n",
    "\n",
    "annual_inc_mean = df.annual_inc.mean()\n",
    "\n",
    "annual_inc_median = df.annual_inc.median()\n",
    "\n",
    "print(f'absolute difference = {np.abs(annual_inc_mean-annual_inc_median):0.2f}')"
   ]
  },
  {
   "cell_type": "code",
   "execution_count": 15,
   "metadata": {},
   "outputs": [
    {
     "data": {
      "text/plain": [
       "<AxesSubplot: xlabel='annual_inc'>"
      ]
     },
     "execution_count": 15,
     "metadata": {},
     "output_type": "execute_result"
    },
    {
     "data": {
      "image/png": "[encoded data removed]",
      "text/plain": [
       "<Figure size 1000x200 with 1 Axes>"
      ]
     },
     "metadata": {},
     "output_type": "display_data"
    }
   ],
   "source": [
    "# 14. (2pt) Display a boxplot of annual_inc using sns.boxplot.\n",
    "\n",
    "#  To make a wide plot, use plt.subplots with 1 row, 1 column of axes and a figsize of (10,2)\n",
    "fig,ax = plt.subplots(1,1,figsize=(10,2))\n",
    "\n",
    "#  Plot a boxplot of annual_inc using sns.boxplot() and ax with annual_inc on the x-axis\n",
    "sns.boxplot(x='annual_inc',data=df)"
   ]
  },
  {
   "cell_type": "code",
   "execution_count": 16,
   "metadata": {},
   "outputs": [
    {
     "name": "stdout",
     "output_type": "stream",
     "text": [
      "95th percentile of annual_inc: 141195.95\n"
     ]
    }
   ],
   "source": [
    "# 15. (1pt) We'll remove some of records with the highest annual_inc, treating them as outliers.\n",
    "#    What is the 95th percentile of annual_inc? (use .percentile() from numpy or .quantile() from pandas)\n",
    "#    Eg. Where is the cutoff where we remove extremely high values but keep 95% of the data?\n",
    "\n",
    "annual_inc_95 = df['annual_inc'].quantile(0.95)\n",
    "\n",
    "print(f'95th percentile of annual_inc: {annual_inc_95:0.2f}')"
   ]
  },
  {
   "cell_type": "code",
   "execution_count": 17,
   "metadata": {},
   "outputs": [
    {
     "data": {
      "text/plain": [
       "<seaborn.axisgrid.JointGrid at 0x12086c9d0>"
      ]
     },
     "execution_count": 17,
     "metadata": {},
     "output_type": "execute_result"
    },
    {
     "data": {
      "image/png": "[encoded data removed]",
      "text/plain": [
       "<Figure size 600x600 with 3 Axes>"
      ]
     },
     "metadata": {},
     "output_type": "display_data"
    }
   ],
   "source": [
    "# 16. (3pt) Plot loan_amnt (x-axis) against annual_inc (y-axis) using sns.jointplot(), excluding outliers\n",
    "#     Only include rows where annual_inc < annual_inc_95\n",
    "#     Set alpha=0.3 to add transparency to markers\n",
    "\n",
    "sns.jointplot(x='loan_amnt',y='annual_inc',data=df.loc[(df.annual_inc<annual_inc_95)],alpha=0.3)"
   ]
  },
  {
   "cell_type": "code",
   "execution_count": 18,
   "metadata": {},
   "outputs": [
    {
     "data": {
      "image/png": "[encoded data removed]",
      "text/plain": [
       "<Figure size 1000x400 with 2 Axes>"
      ]
     },
     "metadata": {},
     "output_type": "display_data"
    }
   ],
   "source": [
    "# 17. (5pt) Visualize annual income (annual_inc) by outcome.\n",
    "#     Outcome takes two values: 'paid off' and 'default'\n",
    "\n",
    "# NOTE: In all of the below use all rows of df, no longer limiting to df.annual_inc < annual_inc_95\n",
    "\n",
    "# Here we'll create 2 plots, one that compares the distributions of annual_inc by outcome,\n",
    "# the other comparing the mean of annual_inc by outcome\n",
    "\n",
    "# Create a subplot with 2 rows and 1 column with figsize of (10,4)\n",
    "# Use sharex=True to share the x-axis across the two plots\n",
    "# Capture the return values of plt.subplots() as fig,ax\n",
    "fig,ax = plt.subplots(2, 1, figsize=(10,4), sharex=True)\n",
    "\n",
    "# On the first axis (ax[0]) use sns.boxplot() to compare the distribution of annual_inc by outcome\n",
    "#   Place 'annual_inc' on the x-axis and 'outcome' on the y-axis.\n",
    "sns.boxplot(x='annual_inc', y='outcome', data=df, ax=ax[0])\n",
    "\n",
    "# Set the title on the first axis ax[0] to be 'Annual Income Distributions By Outcome'\n",
    "ax[0].set_title('Annual Income Distributions By Outcome')\n",
    "\n",
    "# On the second axis (ax[1]) use sns.barplot() to compare the means of annual_inc by outcome\n",
    "#   Place 'annual_inc' on the x-axis and 'outcome' on the y-axis.\n",
    "sns.barplot(x='annual_inc', y='outcome', data=df, ax=ax[1])\n",
    "\n",
    "# Set the title on the second plot to be 'Annual Income Means By Outcome'\n",
    "ax[1].set_title('Annual Income Means By Outcome')\n",
    "\n",
    "# Remove the label on the x-axis of ax[0] using set_xlabel() (as it overlaps with the ax[1] title)\n",
    "ax[0].set_xlabel(None);"
   ]
  },
  {
   "cell_type": "markdown",
   "metadata": {},
   "source": [
    "## Part 2: Hypothesis Testing\n",
    "\n",
    "The plots in the question above indicate a difference in annual_inc by outcome.\n",
    "\n",
    "Let's test the hypothesis that there is a difference in mean annual_inc for loans with an outcome of 'paid off' vs loans with an outcome of 'default'."
   ]
  },
  {
   "cell_type": "code",
   "execution_count": 19,
   "metadata": {},
   "outputs": [
    {
     "name": "stdout",
     "output_type": "stream",
     "text": [
      "observed_mean_diff = 9062.74\n"
     ]
    }
   ],
   "source": [
    "# 18. (3pt) Calculate the difference in mean annual_inc between 'paid off' and 'default' \n",
    "#     Use: mean_annual_inc_paid_off - mean_annual_inc_default\n",
    "\n",
    "# Calculate the mean value for each group\n",
    "mean_annual_inc_paid_off = df.loc[df.outcome=='paid off'].annual_inc.mean()\n",
    "mean_annual_inc_default = df.loc[df.outcome=='default'].annual_inc.mean()\n",
    "observed_mean_diff = mean_annual_inc_paid_off - mean_annual_inc_default\n",
    "\n",
    "# Print the the value of observed_mean_diff with a precision of 2\n",
    "print(f'{observed_mean_diff = :0.2f}')"
   ]
  },
  {
   "cell_type": "code",
   "execution_count": 20,
   "metadata": {},
   "outputs": [
    {
     "name": "stdout",
     "output_type": "stream",
     "text": [
      "n_paid_off = 500\n"
     ]
    },
    {
     "data": {
      "text/plain": [
       "array([ 2323.292,  3927.652, -4313.772])"
      ]
     },
     "execution_count": 20,
     "metadata": {},
     "output_type": "execute_result"
    }
   ],
   "source": [
    "# 19. (5pt) We'll perform a permutation test to see how significant this difference is\n",
    "#    by generating 1,000 random permutation samples of mean difference\n",
    "\n",
    "rand_mean_diffs = [] \n",
    "n_samples = 1000\n",
    "n_paid_off = df[df.outcome == 'paid off'].shape[0] # the number of observations (rows) with outcome of 'paid off'\n",
    "print(f'{n_paid_off = :d}')\n",
    "\n",
    "for i in range(n_samples):\n",
    "    \n",
    "    # Get a random permutation of df.annual_inc\n",
    "    # Use the pandas .sample() function with \n",
    "    #    sample size the same size as original dataset\n",
    "    #    sampling without replacement\n",
    "    #    random_state == i (the index of the loop) for consistency in grading\n",
    "    rand_perm = df.annual_inc.sample(n=len(df),replace=False,random_state = i)\n",
    "    \n",
    "    # Take the mean of the first n_paid_off random values\n",
    "    rand_mean_paid_off = rand_perm[:n_paid_off].mean()\n",
    "    \n",
    "    # Take the mean of the remaining random values\n",
    "    rand_mean_default = rand_perm[n_paid_off:].mean()\n",
    "    \n",
    "    # Append the difference (rand_mean_paid_off - rand_mean_default) to the list rand_mean_diffs\n",
    "    rand_mean_diffs.append(rand_mean_paid_off - rand_mean_default)\n",
    "    \n",
    "# Convert rand_mean_diffs into a numpy array so we can use numpy functions\n",
    "rand_mean_diffs = np.array(rand_mean_diffs)\n",
    "    \n",
    "# check that we have the correct amount of data by asserting that the length of rand_mean_diffs == n_samples\n",
    "assert rand_mean_diffs.shape[0] == n_samples\n",
    "\n",
    "# check that we only have one array of differences\n",
    "assert rand_mean_diffs.ndim == 1\n",
    "\n",
    "# Display the first three values in rand_mean_diffs so we know when it's done.\n",
    "rand_mean_diffs[:3]"
   ]
  },
  {
   "cell_type": "code",
   "execution_count": 21,
   "metadata": {},
   "outputs": [
    {
     "name": "stdout",
     "output_type": "stream",
     "text": [
      "rand_mean_diffs_zscore.mean() = 0.000\n",
      "rand_mean_diffs_zscore.std()  = 1.000\n",
      "observed_mean_diff_zscore     = 3.415\n"
     ]
    }
   ],
   "source": [
    "# 20. (5pt) Before we plot the data, let's transform all values to their z-score\n",
    "\n",
    "# Calculate the sample mean of our rand_mean_diffs using .mean()\n",
    "mean_rand_mean_diffs = rand_mean_diffs.mean()\n",
    "\n",
    "# Calculate the sample standard deviation using .std()\n",
    "std_rand_mean_diffs = rand_mean_diffs.std()\n",
    "\n",
    "# Transform rand_mean_diffs to rand_mean_diffs_zscore by \n",
    "#    first subtracting the mean and \n",
    "#    then dividing by the std dev\n",
    "rand_mean_diffs_zscore = (rand_mean_diffs-mean_rand_mean_diffs)/std_rand_mean_diffs\n",
    "\n",
    "# Transform the observed_mean_diff as well by subtracting the mean and dividing by the std dev\n",
    "observed_mean_diff_zscore = (observed_mean_diff-mean_rand_mean_diffs)/ std_rand_mean_diffs\n",
    "\n",
    "# To check our transformation, check that the zscore mean is near 0 and std dev is near 1\n",
    "print(f'{rand_mean_diffs_zscore.mean() = :0.3f}')\n",
    "print(f'{rand_mean_diffs_zscore.std()  = :0.3f}')\n",
    "print(f'{observed_mean_diff_zscore     = :0.3f}')\n",
    "\n",
    "assert np.abs(rand_mean_diffs_zscore.mean() - 0) < .0001, 'rand_mean_diffs_zscore.mean() should be close to zero'\n",
    "assert np.abs(rand_mean_diffs_zscore.std()  - 1) < .0001, 'rand_mean_diffs_zscore.std() should be close to 1'"
   ]
  },
  {
   "cell_type": "code",
   "execution_count": 22,
   "metadata": {},
   "outputs": [
    {
     "data": {
      "text/plain": [
       "<matplotlib.lines.Line2D at 0x120b861d0>"
      ]
     },
     "execution_count": 22,
     "metadata": {},
     "output_type": "execute_result"
    },
    {
     "data": {
      "image/png": "[encoded data removed]",
      "text/plain": [
       "<Figure size 600x300 with 1 Axes>"
      ]
     },
     "metadata": {},
     "output_type": "display_data"
    }
   ],
   "source": [
    "# 21. (2pt) Plot our observed metric against our samples.\n",
    "\n",
    "# Use subplots to create a figure with 1 row, 1 columna and figsize of (6,3)\n",
    "fig, ax = plt.subplots(1, 1, figsize=(6,3))\n",
    "\n",
    "# Use seaborn histplot to plot the distribution of rand_mean_diffs_zscore on ax\n",
    "sns.histplot(rand_mean_diffs_zscore, ax = ax)\n",
    "\n",
    "# Use ax.axvline() to plot a line at our observed_mean_diff_zscore\n",
    "# Make the line red using color='r'\n",
    "ax.axvline(observed_mean_diff_zscore, color = 'r')"
   ]
  },
  {
   "cell_type": "code",
   "execution_count": 23,
   "metadata": {},
   "outputs": [
    {
     "data": {
      "text/plain": [
       "0.001"
      ]
     },
     "execution_count": 23,
     "metadata": {},
     "output_type": "execute_result"
    }
   ],
   "source": [
    "# 22. (3pt) The plot seems to indicate a real difference in values. What is the p-value?\n",
    "#    Calculate a two-tailed p_value using np.abs()\n",
    "#    Recall that we want the proportion of random samples (rand_mean_diffs_zscore) with an absolute value\n",
    "#      greater than or equal to the absolute value of the observed difference (observed_mean_diff_zscore).\n",
    "p_value = sum(np.abs(np.array(rand_mean_diffs))>=np.abs(observed_mean_diff))/len(rand_mean_diffs)\n",
    "\n",
    "# print the p-value found\n",
    "p_value"
   ]
  },
  {
   "cell_type": "code",
   "execution_count": null,
   "metadata": {},
   "outputs": [],
   "source": []
  }
 ],
 "metadata": {
  "kernelspec": {
   "display_name": "eods-f22",
   "language": "python",
   "name": "eods-f22"
  },
  "language_info": {
   "codemirror_mode": {
    "name": "ipython",
    "version": 3
   },
   "file_extension": ".py",
   "mimetype": "text/x-python",
   "name": "python",
   "nbconvert_exporter": "python",
   "pygments_lexer": "ipython3",
   "version": "3.10.6"
  },
  "toc": {
   "base_numbering": 1,
   "nav_menu": {},
   "number_sections": false,
   "sideBar": true,
   "skip_h1_title": false,
   "title_cell": "Table of Contents",
   "title_sidebar": "Contents",
   "toc_cell": false,
   "toc_position": {},
   "toc_section_display": true,
   "toc_window_display": false
  }
 },
 "nbformat": 4,
 "nbformat_minor": 2
}
